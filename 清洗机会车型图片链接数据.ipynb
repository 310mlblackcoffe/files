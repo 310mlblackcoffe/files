{
 "cells": [
  {
   "cell_type": "code",
   "execution_count": 3,
   "id": "0e691e6c",
   "metadata": {},
   "outputs": [
    {
     "name": "stdout",
     "output_type": "stream",
     "text": [
      "C:\\Users\\小帅\\Downloads\n"
     ]
    }
   ],
   "source": [
    "cd C:\\Users\\小帅\\Downloads\n"
   ]
  },
  {
   "cell_type": "code",
   "execution_count": 17,
   "id": "79fb9062",
   "metadata": {},
   "outputs": [
    {
     "name": "stdout",
     "output_type": "stream",
     "text": [
      "处理完成！\n"
     ]
    }
   ],
   "source": [
    "import re\n",
    "\n",
    "input_file = '33.txt'\n",
    "output_file = 'new-33.txt'\n",
    "\n",
    "with open(input_file, 'r', encoding='utf-8') as f:\n",
    "    content = f.read()\n",
    "\n",
    "# 使用正则表达式匹配所有图片链接\n",
    "pattern = r'https://[^\\s\"]+\\.(jpg|png|jpeg|gif)'\n",
    "image_links = re.findall(pattern, content)\n",
    "\n",
    "# 将匹配到的图片链接保存到输出文件\n",
    "with open(output_file, 'w', encoding='utf-8') as f:\n",
    "    for link in image_links:\n",
    "        f.write(link + '\\n')\n",
    "\n",
    "print(\"处理完成！\")\n"
   ]
  },
  {
   "cell_type": "code",
   "execution_count": null,
   "id": "9a401066",
   "metadata": {},
   "outputs": [],
   "source": []
  }
 ],
 "metadata": {
  "kernelspec": {
   "display_name": "Python 3 (ipykernel)",
   "language": "python",
   "name": "python3"
  },
  "language_info": {
   "codemirror_mode": {
    "name": "ipython",
    "version": 3
   },
   "file_extension": ".py",
   "mimetype": "text/x-python",
   "name": "python",
   "nbconvert_exporter": "python",
   "pygments_lexer": "ipython3",
   "version": "3.11.4"
  }
 },
 "nbformat": 4,
 "nbformat_minor": 5
}
