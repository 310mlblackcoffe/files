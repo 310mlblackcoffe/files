{
 "cells": [
  {
   "cell_type": "code",
   "execution_count": 5,
   "id": "7b039ec2",
   "metadata": {},
   "outputs": [
    {
     "name": "stdout",
     "output_type": "stream",
     "text": [
      "C:\\Users\\小帅\\Desktop\\十大品线调研\\座垫\\座垫2023.12.18\n"
     ]
    }
   ],
   "source": [
    "cd C:\\Users\\小帅\\Desktop\\十大品线调研\\座垫\\座垫2023.12.18"
   ]
  },
  {
   "cell_type": "code",
   "execution_count": 6,
   "id": "d1fc7724",
   "metadata": {},
   "outputs": [],
   "source": [
    "\n",
    "import pandas as pd\n",
    "import re  # 导入re模块\n",
    "\n",
    "# 读取文档2\n",
    "df2 = pd.read_excel('座垫12.18全量（标注车型）（剔除通用）.xlsx')\n",
    "\n",
    "# 创建一个函数来标注商品\n",
    "def annotate_product(row):\n",
    "    title = str(row['商品标题'])  # 将商品标题转换为字符串类型\n",
    "    title_lower = title.lower()\n",
    "    \n",
    "    # 定义用于匹配完整单词的正则表达式模式\n",
    "    word_pattern = r'\\b{}\\b'.format\n",
    "\n",
    "    # 使用正则表达式匹配关键词\n",
    "\n",
    "    if (re.search(word_pattern(\"seat covers\"), title_lower) or re.search(word_pattern(\"seat cover\"), title_lower) or re.search(word_pattern(\"seat cushion\"), title_lower) or re.search(word_pattern(\"seat cushions\"), title_lower)) and (not re.search(word_pattern(\"back seat cover\"), title_lower)) and (not re.search(word_pattern(\"back seat covers\"), title_lower)):\n",
    "        return \"座椅套\" \n",
    "    elif (re.search(word_pattern(\"backrest\"), title_lower) or re.search(word_pattern(\"seat back\"), title_lower)  or re.search(word_pattern(\"seats back\"), title_lower) or re.search(word_pattern(\"dog seat liner\"), title_lower)) and (re.search(word_pattern(\"liner\"), title_lower) or re.search(word_pattern(\"liners\"), title_lower) or re.search(word_pattern(\"mats\"), title_lower) or re.search(word_pattern(\"cover\"), title_lower) or re.search(word_pattern(\"covers\"), title_lower) or re.search(word_pattern(\"mat\"), title_lower) or re.search(word_pattern(\"protector\"), title_lower)):\n",
    "        return \"椅背垫单品\"\n",
    "    elif (re.search(word_pattern(\"floor\"), title_lower) or re.search(word_pattern(\"floorliners\"), title_lower) or re.search(word_pattern(\"row liners\"), title_lower) or re.search(word_pattern(\"row liner\"), title_lower)) and (re.search(word_pattern(\"liner\"), title_lower) or re.search(word_pattern(\"liners\"), title_lower) or re.search(word_pattern(\"mats\"), title_lower) or re.search(word_pattern(\"mat\"), title_lower)):\n",
    "        return \"脚垫单品\"\n",
    "    elif (re.search(word_pattern(\"cargo\"), title_lower) or re.search(word_pattern(\"trunk\"), title_lower)) and (re.search(word_pattern(\"liner\"), title_lower) or re.search(word_pattern(\"liners\"), title_lower) or re.search(word_pattern(\"mats\"), title_lower) or re.search(word_pattern(\"mat\"), title_lower)):\n",
    "        return \"后备箱垫单品\"\n",
    "\n",
    "    elif (re.search(word_pattern(\"armrest cover\"), title_lower) or re.search(word_pattern(\"center console cover\"), title_lower) or re.search(word_pattern(\"armrest cushion\"), title_lower) or re.search(word_pattern(\"armrest pad\"), title_lower)):\n",
    "        return \"扶手箱套\"\n",
    "    elif (re.search(word_pattern(\"car cover\"), title_lower) or re.search(word_pattern(\"car covers\"), title_lower)):\n",
    "        return \"车衣\"\n",
    "    elif (re.search(word_pattern(\"snow cover\"), title_lower) or re.search(word_pattern(\"snow covers\"), title_lower)):\n",
    "        return \"雪挡\"\n",
    "    elif (re.search(word_pattern(\"cargo cover\"), title_lower) or re.search(word_pattern(\"security shield shade\"), title_lower) or re.search(word_pattern(\"security shade cover shield\"), title_lower)):\n",
    "        return \"遮物帘\"\n",
    "    elif (re.search(word_pattern(\"glove box\"), title_lower)) and (re.search(word_pattern(\"dividers\"), title_lower) or re.search(word_pattern(\"organizer\"), title_lower) or re.search(word_pattern(\"partition\"), title_lower)):\n",
    "        return \"手套箱隔板\"\n",
    "    elif (re.search(word_pattern(\"dash\"), title_lower) or re.search(word_pattern(\"dashboard\"), title_lower) or re.search(word_pattern(\"screen\"), title_lower)) and (re.search(word_pattern(\"pad\"), title_lower) or re.search(word_pattern(\"cover\"), title_lower) or re.search(word_pattern(\"mat\"), title_lower) or re.search(word_pattern(\"mats\"), title_lower) or re.search(word_pattern(\"storage\"), title_lower) or re.search(word_pattern(\"tray\"), title_lower) or re.search(word_pattern(\"organizer\"), title_lower)):\n",
    "        return \"仪表台储物垫\"\n",
    "    elif (not re.search(word_pattern(\"side\"), title_lower)) and (re.search(word_pattern(\"console\"), title_lower) or re.search(word_pattern(\"armrest\"), title_lower)) and (re.search(word_pattern(\"storage box\"), title_lower) or re.search(word_pattern(\"organizer\"), title_lower) or re.search(word_pattern(\"tray\"), title_lower) or re.search(word_pattern(\"pocket\"), title_lower) or re.search(word_pattern(\"pockets\"), title_lower)):\n",
    "        return \"扶手箱储物盒\"\n",
    "\n",
    "    else:\n",
    "        return \"\"\n",
    "\n",
    "# 在文档2中添加一列用于标注\n",
    "df2['商品名称'] = df2.apply(annotate_product, axis=1)\n",
    "\n",
    "# 保存带有标注的文档2\n",
    "df2.to_excel('座垫12.18全量（标注车型）（剔除通用）(标注产品名称2).xlsx', index=False)\n"
   ]
  },
  {
   "cell_type": "code",
   "execution_count": null,
   "id": "e7e54056",
   "metadata": {},
   "outputs": [],
   "source": []
  }
 ],
 "metadata": {
  "kernelspec": {
   "display_name": "Python 3 (ipykernel)",
   "language": "python",
   "name": "python3"
  },
  "language_info": {
   "codemirror_mode": {
    "name": "ipython",
    "version": 3
   },
   "file_extension": ".py",
   "mimetype": "text/x-python",
   "name": "python",
   "nbconvert_exporter": "python",
   "pygments_lexer": "ipython3",
   "version": "3.11.4"
  }
 },
 "nbformat": 4,
 "nbformat_minor": 5
}
