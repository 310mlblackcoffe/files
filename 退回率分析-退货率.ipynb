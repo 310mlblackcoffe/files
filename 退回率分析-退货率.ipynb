{
 "cells": [
  {
   "cell_type": "code",
   "execution_count": 1,
   "id": "1c35c666",
   "metadata": {},
   "outputs": [
    {
     "name": "stdout",
     "output_type": "stream",
     "text": [
      "C:\\Users\\小帅\\Desktop\\退货率调研分析\\退货率长期跟踪\\退货率周跟进\n"
     ]
    }
   ],
   "source": [
    "cd C:\\Users\\小帅\\Desktop\\退货率调研分析\\退货率长期跟踪\\退货率周跟进"
   ]
  },
  {
   "cell_type": "code",
   "execution_count": 2,
   "id": "14196529",
   "metadata": {},
   "outputs": [
    {
     "name": "stdout",
     "output_type": "stream",
     "text": [
      "数据处理完成，已保存到merged_data-new.csv文件中。\n"
     ]
    }
   ],
   "source": [
    "import pandas as pd\n",
    "\n",
    "# 读取三个CSV文件\n",
    "file1_path = \"销量统计-ASIN-20230101-20240128.csv\"\n",
    "file2_path = \"FBA退货列表20230101-20240128.csv\"\n",
    "file3_path = \"售后问题描述计数20230101-20240128.csv\"\n",
    "\n",
    "df1 = pd.read_csv(file1_path)\n",
    "df2 = pd.read_csv(file2_path)\n",
    "df3 = pd.read_csv(file3_path)\n",
    "\n",
    "# 选择需要的列\n",
    "df1_selected = df1[[\"日期ASIN组合\", \"日期\", \"sku\", \"ASIN\", \"求和项:销量\"]]\n",
    "df2_selected = df2[[\"日期ASIN组合\", \"日期\", \"sku\", \"ASIN\", \"求和项:退货数量\"]]\n",
    "df3_selected = df3[[\"日期ASIN组合\", \"日期\", \"sku\", \"ASIN\", \"计数项:问题描述\"]]\n",
    "\n",
    "# 分步合并三个数据框\n",
    "merged_df_12 = pd.merge(df1_selected, df2_selected, on=\"日期ASIN组合\", how=\"outer\")\n",
    "merged_df = pd.merge(merged_df_12, df3_selected, on=\"日期ASIN组合\", how=\"outer\")\n",
    "\n",
    "# 保存到新的CSV文件，使用“带BOM的UTF-8”格式\n",
    "merged_df.to_csv(\"merged_data-new.csv\", index=False, encoding=\"utf-8-sig\")\n",
    "\n",
    "print(\"数据处理完成，已保存到merged_data-new.csv文件中。\")\n"
   ]
  },
  {
   "cell_type": "code",
   "execution_count": null,
   "id": "85a663d8",
   "metadata": {},
   "outputs": [],
   "source": []
  }
 ],
 "metadata": {
  "kernelspec": {
   "display_name": "Python 3 (ipykernel)",
   "language": "python",
   "name": "python3"
  },
  "language_info": {
   "codemirror_mode": {
    "name": "ipython",
    "version": 3
   },
   "file_extension": ".py",
   "mimetype": "text/x-python",
   "name": "python",
   "nbconvert_exporter": "python",
   "pygments_lexer": "ipython3",
   "version": "3.11.4"
  }
 },
 "nbformat": 4,
 "nbformat_minor": 5
}
