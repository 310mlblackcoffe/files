{
 "cells": [
  {
   "cell_type": "code",
   "execution_count": 5,
   "id": "67380905",
   "metadata": {},
   "outputs": [
    {
     "name": "stdout",
     "output_type": "stream",
     "text": [
      "E:\\BaiduNetdiskDownload\\十大品线调研\\脚垫\n"
     ]
    }
   ],
   "source": [
    "cd E:\\BaiduNetdiskDownload\\十大品线调研\\脚垫"
   ]
  },
  {
   "cell_type": "code",
   "execution_count": 6,
   "id": "115bb456",
   "metadata": {},
   "outputs": [],
   "source": [
    "import pandas as pd\n",
    "\n",
    "# 读取文档2\n",
    "df2 = pd.read_excel('标注和适用车型的脚垫（改进）.xlsx')\n",
    "\n",
    "# 创建一个函数来标注商品\n",
    "def annotate_product(row):\n",
    "    title = str(row['商品标题'])  # 将商品标题转换为字符串类型\n",
    "    title_lower = title.lower()\n",
    "    \n",
    "    # 检查各种情况并标注商品\n",
    "    if ((\"floor\" in title_lower) or (\"front & 2nd row liners\" in title_lower) or (\"front row liner\" in title_lower) or (\"second row liner\" in title_lower) or (\"third row liner\" in title_lower) or (\"3 row liner\" in title_lower)) and ((\"cargo\" in title_lower) or (\"trunk\" in title_lower)) and ((\"backrest\" in title_lower) or (\"seat back\" in title_lower) or (\"seats back\" in title_lower) or (\"dog seat liner\" in title_lower)):\n",
    "        return \"后备箱垫+椅背垫+脚垫\"\n",
    "    elif ((\"floor\" in title_lower) or (\"front & 2nd row liners\" in title_lower) or (\"front row liner\" in title_lower) or (\"second row liner\" in title_lower) or (\"third row liner\" in title_lower) or (\"3 row liner\" in title_lower)) and ((\"cargo\" in title_lower) or (\"trunk\" in title_lower)):\n",
    "        return \"后备箱垫+脚垫\"\n",
    "    elif ((\"floor\" in title_lower) or (\"front & 2nd row liners\" in title_lower) or (\"front row liner\" in title_lower) or (\"second row liner\" in title_lower) or (\"third row liner\" in title_lower) or (\"3 row liner\" in title_lower)) and ((\"backrest\" in title_lower) or (\"seat back\" in title_lower) or (\"seats back\" in title_lower) or (\"dog seat liner\" in title_lower)):\n",
    "        return \"椅背垫+脚垫\"\n",
    "    elif ((\"cargo\" in title_lower) or (\"trunk\" in title_lower)) and ((\"backrest\" in title_lower) or (\"seat back\" in title_lower) or (\"seats back\" in title_lower) or (\"dog seat liner\" in title_lower)):\n",
    "        return \"后备箱垫+椅背垫\"\n",
    "    elif ((\"floor\" in title_lower) or (\"front & 2nd row liners\" in title_lower) or (\"front row liner\" in title_lower) or (\"second row liner\" in title_lower) or (\"third row liner\" in title_lower) or (\"3 row liner\" in title_lower)):\n",
    "        return \"脚垫单品\"\n",
    "    elif ((\"backrest\" in title_lower) or (\"seat back\" in title_lower) or (\"seats back\" in title_lower) or (\"dog seat liner\" in title_lower)):\n",
    "        return \"椅背垫单品\"\n",
    "    elif ((\"cargo\" in title_lower) or (\"trunk\" in title_lower)):\n",
    "        return \"后备箱垫单品\"\n",
    "    else:\n",
    "        return \"\"\n",
    "\n",
    "# 在文档2中添加一列用于标注\n",
    "df2['组合形式'] = df2.apply(annotate_product, axis=1)\n",
    "\n",
    "# 保存带有标注的文档2\n",
    "df2.to_excel('标注和适用车型的脚垫（改进）（标注组合款）.xlsx', index=False)\n"
   ]
  },
  {
   "cell_type": "code",
   "execution_count": null,
   "id": "d64da159",
   "metadata": {},
   "outputs": [],
   "source": []
  }
 ],
 "metadata": {
  "kernelspec": {
   "display_name": "Python 3 (ipykernel)",
   "language": "python",
   "name": "python3"
  },
  "language_info": {
   "codemirror_mode": {
    "name": "ipython",
    "version": 3
   },
   "file_extension": ".py",
   "mimetype": "text/x-python",
   "name": "python",
   "nbconvert_exporter": "python",
   "pygments_lexer": "ipython3",
   "version": "3.11.4"
  }
 },
 "nbformat": 4,
 "nbformat_minor": 5
}
