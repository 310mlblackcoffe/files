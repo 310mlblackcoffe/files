{
 "cells": [
  {
   "cell_type": "code",
   "execution_count": 2,
   "id": "1bc453f1",
   "metadata": {},
   "outputs": [
    {
     "name": "stdout",
     "output_type": "stream",
     "text": [
      "C:\\Users\\小帅\\Downloads\\8-9月-bronco\\原始数据\\验证\\2024年1月\n"
     ]
    }
   ],
   "source": [
    "cd C:\\Users\\小帅\\Downloads\\8-9月-bronco\\原始数据\\验证\\2024年1月"
   ]
  },
  {
   "cell_type": "code",
   "execution_count": 3,
   "id": "004fc370",
   "metadata": {},
   "outputs": [
    {
     "name": "stdout",
     "output_type": "stream",
     "text": [
      "处理完成，已导出到 bronco1月份全量数据（标注车型）（排除sport）.xlsx\n"
     ]
    }
   ],
   "source": [
    "import pandas as pd\n",
    "\n",
    "# 读取Excel文件\n",
    "file_path = 'bronco1月份全量数据（标注车型）.xlsx'  # 替换成你的文件路径\n",
    "df = pd.read_excel(file_path)\n",
    "\n",
    "# 定义一个函数来标注标题\n",
    "def label_title(row):\n",
    "    title = row['商品标题'].lower()\n",
    "    if 'bronco' in title and ('not' in title or \"don't\" in title or \"Excluding\" in title):\n",
    "        return 'bronco'\n",
    "    elif 'bronco' in title and 'sport' not in title:\n",
    "        return 'bronco'\n",
    "    else:\n",
    "        return 'bronco sport'\n",
    "\n",
    "# 在DataFrame中添加新的列\n",
    "df['bronco/bronco sport'] = df.apply(label_title, axis=1)\n",
    "\n",
    "# 导出带有新列的Excel文件\n",
    "output_file_path = 'bronco1月份全量数据（标注车型）（排除sport）.xlsx'  # 替换成你想要的输出文件路径\n",
    "df.to_excel(output_file_path, index=False)\n",
    "\n",
    "print(\"处理完成，已导出到\", output_file_path)\n"
   ]
  },
  {
   "cell_type": "code",
   "execution_count": null,
   "id": "5f9b3ff7",
   "metadata": {},
   "outputs": [],
   "source": []
  }
 ],
 "metadata": {
  "kernelspec": {
   "display_name": "Python 3 (ipykernel)",
   "language": "python",
   "name": "python3"
  },
  "language_info": {
   "codemirror_mode": {
    "name": "ipython",
    "version": 3
   },
   "file_extension": ".py",
   "mimetype": "text/x-python",
   "name": "python",
   "nbconvert_exporter": "python",
   "pygments_lexer": "ipython3",
   "version": "3.11.4"
  }
 },
 "nbformat": 4,
 "nbformat_minor": 5
}
