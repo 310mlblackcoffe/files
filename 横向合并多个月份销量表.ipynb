{
 "cells": [
  {
   "cell_type": "code",
   "execution_count": 5,
   "id": "4fcb126e",
   "metadata": {},
   "outputs": [
    {
     "name": "stdout",
     "output_type": "stream",
     "text": [
      "C:\\Users\\小帅\\Desktop\\监控全球车型数据--王超给\\历史车型销量\n"
     ]
    }
   ],
   "source": [
    "cd C:\\Users\\小帅\\Desktop\\监控全球车型数据--王超给\\历史车型销量"
   ]
  },
  {
   "cell_type": "code",
   "execution_count": 8,
   "id": "6d66f3b0",
   "metadata": {},
   "outputs": [
    {
     "name": "stdout",
     "output_type": "stream",
     "text": [
      "合并完成，结果保存在: merged_data.xlsx\n"
     ]
    }
   ],
   "source": [
    "\n",
    "\n",
    "import pandas as pd\n",
    "import os\n",
    "\n",
    "# 假设所有文件都在同一个文件夹中，指定该文件夹路径\n",
    "folder_path = 'C:\\\\Users\\\\小帅\\\\Desktop\\\\监控全球车型数据--王超给\\\\历史车型销量'  # 请替换为您的文件夹路径\n",
    "file_paths = [os.path.join(folder_path, f) for f in os.listdir(folder_path) if f.endswith('.xlsx')]\n",
    "\n",
    "# 创建一个空的DataFrame用于存储合并后的数据\n",
    "merged_df = pd.DataFrame()\n",
    "\n",
    "# 逐个读取并合并每个Excel文件\n",
    "for file_path in file_paths:\n",
    "    # 读取Excel文件\n",
    "    df = pd.read_excel(file_path,engine='openpyxl')\n",
    "    \n",
    "    # 如果是第一个文件，初始化merged_df的列\n",
    "    if merged_df.empty:\n",
    "        merged_df = df\n",
    "    else:\n",
    "        # 合并数据，确保只添加新的月份列\n",
    "        merged_df = pd.merge(merged_df, df, on=['国家/地区', '集团', '整车厂/品牌', '车种', '级别', '车型', '动力总成'], how='outer')\n",
    "\n",
    "# 现在merged_df包含了所有文件的数据，按照月份排序列\n",
    "# 以下是将列重新排序以按时间顺序排列月份的代码\n",
    "\n",
    "# 提取出所有月份列\n",
    "month_columns = [col for col in merged_df if col not in ['国家/地区', '集团', '整车厂/品牌', '车种', '级别', '车型', '动力总成']]\n",
    "# 按列名排序\n",
    "month_columns_sorted = sorted(month_columns)\n",
    "\n",
    "# 将非月份列和排序后的月份列合并\n",
    "final_columns = ['国家/地区', '集团', '整车厂/品牌', '车种', '级别', '车型', '动力总成'] + month_columns_sorted\n",
    "merged_df = merged_df[final_columns]\n",
    "\n",
    "# 输出合并后的文件路径\n",
    "output_file_path = 'merged_data.xlsx'  # 请替换为您的输出文件路径\n",
    "\n",
    "# 将合并后的数据保存到新的Excel文件中\n",
    "merged_df.to_excel(output_file_path, index=False)\n",
    "\n",
    "print(f\"合并完成，结果保存在: {output_file_path}\")\n"
   ]
  },
  {
   "cell_type": "code",
   "execution_count": null,
   "id": "a20fa0b9",
   "metadata": {},
   "outputs": [],
   "source": []
  }
 ],
 "metadata": {
  "kernelspec": {
   "display_name": "Python 3 (ipykernel)",
   "language": "python",
   "name": "python3"
  },
  "language_info": {
   "codemirror_mode": {
    "name": "ipython",
    "version": 3
   },
   "file_extension": ".py",
   "mimetype": "text/x-python",
   "name": "python",
   "nbconvert_exporter": "python",
   "pygments_lexer": "ipython3",
   "version": "3.11.4"
  }
 },
 "nbformat": 4,
 "nbformat_minor": 5
}
