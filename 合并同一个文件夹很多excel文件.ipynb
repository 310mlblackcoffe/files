{
 "cells": [
  {
   "cell_type": "code",
   "execution_count": 4,
   "id": "0f9f072f",
   "metadata": {},
   "outputs": [
    {
     "name": "stdout",
     "output_type": "stream",
     "text": [
      "C:\\Users\\小帅\\Desktop\\小牛看板\\maverick-1月\n"
     ]
    }
   ],
   "source": [
    "cd C:\\Users\\小帅\\Desktop\\小牛看板\\maverick-1月"
   ]
  },
  {
   "cell_type": "code",
   "execution_count": 5,
   "id": "5820b3ca",
   "metadata": {},
   "outputs": [
    {
     "name": "stdout",
     "output_type": "stream",
     "text": [
      "合并完成，结果保存在: maverick-2024年1月-all.xlsx\n"
     ]
    }
   ],
   "source": [
    "\n",
    "# 如果需要跳过第一行，使用这个脚本\n",
    "# 如果需要跳过第一行，使用这个脚本\n",
    "# 如果需要跳过第一行，使用这个脚本\n",
    "\n",
    "\n",
    "import os\n",
    "import pandas as pd\n",
    "\n",
    "# 输入文件夹路径\n",
    "folder_path = 'C:\\\\Users\\\\小帅\\\\Desktop\\\\小牛看板\\\\maverick-1月'\n",
    "\n",
    "# 输出合并后的文件路径\n",
    "output_file_path = 'maverick-2024年1月-all.xlsx'\n",
    "\n",
    "# 获取文件夹中所有的 Excel 文件\n",
    "excel_files = [f for f in os.listdir(folder_path) if f.endswith('.xlsx')]\n",
    "\n",
    "# 确保文件夹中至少有一个 Excel 文件\n",
    "if not excel_files:\n",
    "    print(\"文件夹中没有找到任何 Excel 文件。\")\n",
    "    exit()\n",
    "\n",
    "# 创建一个空的 DataFrame 用于存储合并后的数据\n",
    "merged_df = pd.DataFrame()\n",
    "\n",
    "# 逐个读取并合并每个 Excel 文件\n",
    "for excel_file in excel_files:\n",
    "    file_path = os.path.join(folder_path, excel_file)\n",
    "\n",
    "    # 读取 Excel 文件，跳过第一行，使用第二行作为列名\n",
    "    df = pd.read_excel(file_path, header=1)\n",
    "\n",
    "    # 将文件名作为新的一列加入数据\n",
    "    df['File'] = os.path.basename(file_path)\n",
    "\n",
    "    # 将合并后的数据追加到结果中\n",
    "    merged_df = pd.concat([merged_df, df], ignore_index=True)\n",
    "\n",
    "# 将合并后的数据保存到新的 Excel 文件中\n",
    "merged_df.to_excel(output_file_path, index=False)\n",
    "\n",
    "print(f\"合并完成，结果保存在: {output_file_path}\")"
   ]
  },
  {
   "cell_type": "code",
   "execution_count": null,
   "id": "2bc7d14f",
   "metadata": {},
   "outputs": [],
   "source": []
  },
  {
   "cell_type": "code",
   "execution_count": 7,
   "id": "7d23e37e",
   "metadata": {},
   "outputs": [
    {
     "name": "stdout",
     "output_type": "stream",
     "text": [
      "C:\\Users\\小帅\\Desktop\\十大品线调研\\垫类组合\\垫子看板第三次2024年1月17日\n"
     ]
    }
   ],
   "source": [
    "cd C:\\Users\\小帅\\Desktop\\十大品线调研\\垫类组合\\垫子看板第三次2024年1月17日"
   ]
  },
  {
   "cell_type": "code",
   "execution_count": 8,
   "id": "483a2753",
   "metadata": {},
   "outputs": [
    {
     "name": "stdout",
     "output_type": "stream",
     "text": [
      "合并完成，结果保存在: 12.16-1.16垫子全量.xlsx\n"
     ]
    }
   ],
   "source": [
    "\n",
    "# 如果Excel文件存放于文件夹的子文件夹中，使用这个脚本\n",
    "# 如果Excel文件存放于文件夹的子文件夹中，使用这个脚本\n",
    "# 如果Excel文件存放于文件夹的子文件夹中，使用这个脚本\n",
    "\n",
    "\n",
    "import os\n",
    "import pandas as pd\n",
    "\n",
    "# 输入文件夹路径\n",
    "folder_path = 'C:\\\\Users\\\\小帅\\\\Desktop\\\\十大品线调研\\\\垫类组合\\\\垫子看板第三次2024年1月17日'\n",
    "\n",
    "# 输出合并后的文件路径\n",
    "output_file_path = '12.16-1.16垫子全量.xlsx'\n",
    "\n",
    "# 用于存储所有Excel文件路径的列表\n",
    "all_excel_files = []\n",
    "\n",
    "# 遍历文件夹及其所有子文件夹\n",
    "for root, dirs, files in os.walk(folder_path):\n",
    "    for file in files:\n",
    "        # 检查文件扩展名是否为.xlsx\n",
    "        if file.endswith('.xlsx'):\n",
    "            all_excel_files.append(os.path.join(root, file))\n",
    "\n",
    "# 确保至少找到一个Excel文件\n",
    "if not all_excel_files:\n",
    "    print(\"没有找到任何Excel文件。\")\n",
    "    exit()\n",
    "\n",
    "# 创建一个空的DataFrame用于存储合并后的数据\n",
    "merged_df = pd.DataFrame()\n",
    "\n",
    "# 逐个读取并合并每个Excel文件\n",
    "for file_path in all_excel_files:\n",
    "    # 读取Excel文件，跳过第一行，使用第二行作为列名\n",
    "    df = pd.read_excel(file_path, header=1)\n",
    "\n",
    "    # 将文件名作为新的一列加入数据\n",
    "    df['File'] = os.path.basename(file_path)\n",
    "\n",
    "    # 将合并后的数据追加到结果中\n",
    "    merged_df = pd.concat([merged_df, df], ignore_index=True)\n",
    "\n",
    "# 将合并后的数据保存到新的Excel文件中\n",
    "merged_df.to_excel(output_file_path, index=False)\n",
    "\n",
    "print(f\"合并完成，结果保存在: {output_file_path}\")\n"
   ]
  },
  {
   "cell_type": "code",
   "execution_count": null,
   "id": "0e6b1630",
   "metadata": {},
   "outputs": [],
   "source": []
  }
 ],
 "metadata": {
  "kernelspec": {
   "display_name": "Python 3 (ipykernel)",
   "language": "python",
   "name": "python3"
  },
  "language_info": {
   "codemirror_mode": {
    "name": "ipython",
    "version": 3
   },
   "file_extension": ".py",
   "mimetype": "text/x-python",
   "name": "python",
   "nbconvert_exporter": "python",
   "pygments_lexer": "ipython3",
   "version": "3.11.4"
  }
 },
 "nbformat": 4,
 "nbformat_minor": 5
}
