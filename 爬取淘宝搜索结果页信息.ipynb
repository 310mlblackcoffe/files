{
 "cells": [
  {
   "cell_type": "code",
   "execution_count": 1,
   "id": "5d1ffde0",
   "metadata": {},
   "outputs": [
    {
     "name": "stdout",
     "output_type": "stream",
     "text": [
      "C:\\Users\\小帅\\Downloads\n"
     ]
    }
   ],
   "source": [
    "cd C:\\Users\\小帅\\Downloads"
   ]
  },
  {
   "cell_type": "code",
   "execution_count": 3,
   "id": "e84fa47b",
   "metadata": {},
   "outputs": [],
   "source": [
    "#!/usr/bin/env python\n",
    "# -*- coding: utf-8 -*-\n",
    "import urllib.request\n",
    "import re\n",
    "import os\n",
    "\n",
    "def open_url(url):\n",
    "    head = {'User-Agent': 'Mozilla/5.0 (Windows NT 10.0; WOW64) AppleWebKit/5'\n",
    "                          '37.36 (KHTML, like Gecko) Chrome/63.0.3239.132 Safari/537.36'}\n",
    "    req = urllib.request.Request(url, headers=head)\n",
    "    response = urllib.request.urlopen(req)\n",
    "    html = response.read()\n",
    "    return html\n",
    "\n",
    "def get_img_addr(html):\n",
    "    html_str = html.decode('utf-8')\n",
    "    img_addrs = []\n",
    "    # 修改正则表达式模式以匹配淘宝页面的图片URL\n",
    "    pattern = r'\"pic_url\":\"(https://[^\"]+\\.jpg)\"'\n",
    "    img_addrs = re.findall(pattern, html_str)\n",
    "    return img_addrs\n",
    "\n",
    "def save_img(img_addrs, save_path):\n",
    "    i = 0\n",
    "    for each in img_addrs:\n",
    "        i = i + 1\n",
    "        img_name = os.path.join(save_path, f\"image_{i}.jpg\")\n",
    "        with open(img_name, 'wb') as f:\n",
    "            correct_url = each.replace(\"\\\\\", \"\")\n",
    "            img = open_url(correct_url)\n",
    "            f.write(img)\n",
    "    return i\n",
    "\n",
    "def main():\n",
    "    # 修改URL为淘宝搜索结果页的URL\n",
    "    url = 'https://s.taobao.com/search?q=MODEL%20Y%20%E8%BD%A6%E9%97%A8%E5%82%A8%E7%89%A9%E5%9E%AB'\n",
    "    \n",
    "    # 修改保存图片的本地文件夹路径\n",
    "    save_path = r'C:\\Users\\小帅\\Downloads\\spiser_sons\\taobao_img'\n",
    "    \n",
    "    if not os.path.exists(save_path):\n",
    "        os.makedirs(save_path)\n",
    "    \n",
    "    html = open_url(url)\n",
    "    img_addrs = get_img_addr(html)\n",
    "    save_img(img_addrs, save_path)\n",
    "\n",
    "if __name__ == '__main__':\n",
    "    main()\n"
   ]
  },
  {
   "cell_type": "code",
   "execution_count": null,
   "id": "0fd65583",
   "metadata": {},
   "outputs": [],
   "source": []
  }
 ],
 "metadata": {
  "kernelspec": {
   "display_name": "Python 3 (ipykernel)",
   "language": "python",
   "name": "python3"
  },
  "language_info": {
   "codemirror_mode": {
    "name": "ipython",
    "version": 3
   },
   "file_extension": ".py",
   "mimetype": "text/x-python",
   "name": "python",
   "nbconvert_exporter": "python",
   "pygments_lexer": "ipython3",
   "version": "3.11.4"
  }
 },
 "nbformat": 4,
 "nbformat_minor": 5
}
