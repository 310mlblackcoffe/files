{
 "cells": [
  {
   "cell_type": "code",
   "execution_count": 3,
   "id": "1387109a",
   "metadata": {},
   "outputs": [
    {
     "name": "stdout",
     "output_type": "stream",
     "text": [
      "C:\\Users\\小帅\\Downloads\n"
     ]
    }
   ],
   "source": [
    "cd C:\\Users\\小帅\\Downloads"
   ]
  },
  {
   "cell_type": "code",
   "execution_count": 4,
   "id": "45b7bedf",
   "metadata": {},
   "outputs": [],
   "source": [
    "import pandas as pd\n",
    "\n",
    "# 读取Excel文件\n",
    "df = pd.read_excel('crv_exact-match_us_2023-11-11.xlsx')\n",
    "\n",
    "# 确保Keyword列和待匹配列是字符串类型\n",
    "df['Keyword'] = df['Keyword'].astype(str)\n",
    "df['待匹配'] = df['待匹配'].astype(str)\n",
    "\n",
    "# 初始化求和列\n",
    "df['求和'] = 0\n",
    "\n",
    "# 遍历待匹配列中的每一行\n",
    "for index, row in df.iterrows():\n",
    "    # 获取待匹配列中的单词列表\n",
    "    match_words = row['待匹配'].lower().split()\n",
    "    # 初始化求和变量\n",
    "    sum_volume = 0\n",
    "    # 遍历Keyword列，查找匹配的单词\n",
    "    for a_index, a_row in df.iterrows():\n",
    "        # 如果待匹配列中的所有单词都在Keyword列的字符串中\n",
    "        if all(word in a_row['Keyword'].lower() for word in match_words):\n",
    "            # 累加Volume列的值\n",
    "            sum_volume += a_row['Volume']\n",
    "    # 将求和结果赋值给求和列\n",
    "    df.at[index, '求和'] = sum_volume\n",
    "\n",
    "# 将结果保存回Excel文件\n",
    "df.to_excel('crv_exact-match_us_2023-11-11（结果）.xlsx', index=False)\n"
   ]
  },
  {
   "cell_type": "code",
   "execution_count": null,
   "id": "9612a8d0",
   "metadata": {},
   "outputs": [],
   "source": []
  }
 ],
 "metadata": {
  "kernelspec": {
   "display_name": "Python 3 (ipykernel)",
   "language": "python",
   "name": "python3"
  },
  "language_info": {
   "codemirror_mode": {
    "name": "ipython",
    "version": 3
   },
   "file_extension": ".py",
   "mimetype": "text/x-python",
   "name": "python",
   "nbconvert_exporter": "python",
   "pygments_lexer": "ipython3",
   "version": "3.11.4"
  }
 },
 "nbformat": 4,
 "nbformat_minor": 5
}
