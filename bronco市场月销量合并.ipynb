{
 "cells": [
  {
   "cell_type": "code",
   "execution_count": 1,
   "id": "f1a97bb7",
   "metadata": {},
   "outputs": [
    {
     "name": "stdout",
     "output_type": "stream",
     "text": [
      "C:\\Users\\小帅\\Downloads\\8-9月-bronco\\原始数据\\验证\n"
     ]
    }
   ],
   "source": [
    "cd C:\\Users\\小帅\\Downloads\\8-9月-bronco\\原始数据\\验证"
   ]
  },
  {
   "cell_type": "code",
   "execution_count": 4,
   "id": "1cf42b03",
   "metadata": {},
   "outputs": [
    {
     "name": "stdout",
     "output_type": "stream",
     "text": [
      "数据处理完成，已保存到merged_data-new1.xlsx文件中。\n"
     ]
    }
   ],
   "source": [
    "\n",
    "\n",
    "import pandas as pd\n",
    "\n",
    "# 读取四个EXCEL文件\n",
    "file1_path = \"merged_data-new.xlsx\"\n",
    "file2_path = \"新-12月bronco全量数据（标注车型）(标注产品名称)（剔除通用）.xlsx\"\n",
    "\n",
    "\n",
    "\n",
    "df1 = pd.read_excel(file1_path)\n",
    "df2 = pd.read_excel(file2_path)\n",
    "\n",
    "\n",
    "# 选择需要的列\n",
    "df1_selected = df1[[\"ASIN\",\"品牌\",\"商品名称\",\"bronco/bronco sport\",\"7月子体月销量\",\"7月子体月销售额\",\"8月子体月销量\",\"8月子体月销售额\",\"9月子体月销量\",\"9月子体月销售额\",\"10月子体月销量\",\"10月子体月销售额\",\"11月子体月销量\",\"11月子体月销售额\"]]\n",
    "df2_selected = df2[[\"ASIN\",\"品牌_12\",\"商品名称_12\",\"bronco/bronco sport_12\",\"12月子体月销量\",\"12月子体月销售额\"]]\n",
    "\n",
    "# 分步合并四个数据框\n",
    "merged_df = pd.merge(df1_selected, df2_selected, on=\"ASIN\", how=\"outer\")\n",
    "\n",
    "# 保存到新的EXCEL文件\n",
    "merged_df.to_excel(\"merged_data-new1.xlsx\", index=False)\n",
    "\n",
    "print(\"数据处理完成，已保存到merged_data-new1.xlsx文件中。\")\n"
   ]
  },
  {
   "cell_type": "code",
   "execution_count": null,
   "id": "ebc0f081",
   "metadata": {},
   "outputs": [],
   "source": []
  },
  {
   "cell_type": "code",
   "execution_count": null,
   "id": "95c21c7e",
   "metadata": {},
   "outputs": [],
   "source": []
  }
 ],
 "metadata": {
  "kernelspec": {
   "display_name": "Python 3 (ipykernel)",
   "language": "python",
   "name": "python3"
  },
  "language_info": {
   "codemirror_mode": {
    "name": "ipython",
    "version": 3
   },
   "file_extension": ".py",
   "mimetype": "text/x-python",
   "name": "python",
   "nbconvert_exporter": "python",
   "pygments_lexer": "ipython3",
   "version": "3.11.4"
  }
 },
 "nbformat": 4,
 "nbformat_minor": 5
}
