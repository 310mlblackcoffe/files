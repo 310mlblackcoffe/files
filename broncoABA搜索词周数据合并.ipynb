{
 "cells": [
  {
   "cell_type": "code",
   "execution_count": 9,
   "id": "fb07a5ad",
   "metadata": {},
   "outputs": [
    {
     "name": "stdout",
     "output_type": "stream",
     "text": [
      "C:\\Users\\小帅\\Desktop\\特斯拉看板\\tesla ABA搜索词趋势\n"
     ]
    }
   ],
   "source": [
    "cd C:\\Users\\小帅\\Desktop\\特斯拉看板\\tesla ABA搜索词趋势"
   ]
  },
  {
   "cell_type": "code",
   "execution_count": 11,
   "id": "43ae10ae",
   "metadata": {},
   "outputs": [
    {
     "name": "stdout",
     "output_type": "stream",
     "text": [
      "Processed data has been saved to New-ABAKeywordTrend-US-特斯拉全量-2024第02周(0107~0113).xlsx\n"
     ]
    }
   ],
   "source": [
    "import pandas as pd\n",
    "\n",
    "def process_excel(input_file_path, output_file_path):\n",
    "    # 读取Excel文件\n",
    "    df = pd.read_excel(input_file_path, skiprows=0)\n",
    "    \n",
    "    # 提取所需列\n",
    "    df_selected = df[['关键词', '关键词翻译', '周搜索量', '现排名', '点击集中度', '点击前三ASIN', '点击前三品牌']].copy()\n",
    "    \n",
    "    # 添加“TOP1点击集中度”、“TOP2点击集中度”、“TOP3点击集中度”这几列\n",
    "    df_selected['TOP1点击集中度'] = df_selected['点击集中度'].apply(lambda x: x.split('\\n')[0].split(': ')[1] if pd.notnull(x) and x.split('\\n')[0].split(': ')[1] != '-' else None)\n",
    "    df_selected['TOP2点击集中度'] = df_selected['点击集中度'].apply(lambda x: x.split('\\n')[1].split(': ')[1] if pd.notnull(x) and x.split('\\n')[1].split(': ')[1] != '-' else None)\n",
    "    df_selected['TOP3点击集中度'] = df_selected['点击集中度'].apply(lambda x: x.split('\\n')[2].split(': ')[1] if pd.notnull(x) and x.split('\\n')[2].split(': ')[1] != '-' else None)\n",
    "    \n",
    "    # 添加“点击第一ASIN”、“点击第二ASIN”、“点击第三ASIN”这几列\n",
    "    df_selected['点击第一ASIN'] = df_selected['点击前三ASIN'].apply(lambda x: x.split('、')[0] if pd.notnull(x) and '、' in x else x)\n",
    "    df_selected['点击第二ASIN'] = df_selected['点击前三ASIN'].apply(lambda x: x.split('、')[1] if pd.notnull(x) and '、' in x and len(x.split('、')) > 1 else None)\n",
    "    df_selected['点击第三ASIN'] = df_selected['点击前三ASIN'].apply(lambda x: x.split('、')[2] if pd.notnull(x) and '、' in x and len(x.split('、')) > 2 else None)\n",
    "\n",
    "    # 添加“点击第一品牌”、“点击第二品牌”、“点击第三品牌”这几列\n",
    "    df_selected['点击第一品牌'] = df_selected['点击前三品牌'].apply(lambda x: x.split('、')[0] if pd.notnull(x) and '、' in x else x)\n",
    "    df_selected['点击第二品牌'] = df_selected['点击前三品牌'].apply(lambda x: x.split('、')[1] if pd.notnull(x) and '、' in x and len(x.split('、')) > 1 else None)\n",
    "    df_selected['点击第三品牌'] = df_selected['点击前三品牌'].apply(lambda x: x.split('、')[2] if pd.notnull(x) and '、' in x and len(x.split('、')) > 2 else None)     \n",
    "    \n",
    "     # 将除了'关键词'和'关键词翻译'之外的所有列名前加上“31周”\n",
    "    df_selected.columns = [col if col in ['关键词', '关键词翻译'] else '2024年2周' + col for col in df_selected.columns]   \n",
    "    \n",
    "    # 将处理后的内容输出到一个新的Excel文件\n",
    "    df_selected.to_excel(output_file_path, index=False)\n",
    "    print(f\"Processed data has been saved to {output_file_path}\")\n",
    "\n",
    "# 定义输入和输出文件路径\n",
    "input_file_path = 'ABAKeywordTrend-US-特斯拉全量-2024第02周(0107~0113).xlsx'\n",
    "output_file_path = 'New-ABAKeywordTrend-US-特斯拉全量-2024第02周(0107~0113).xlsx'\n",
    "\n",
    "# 运行脚本\n",
    "process_excel(input_file_path, output_file_path)\n"
   ]
  },
  {
   "cell_type": "code",
   "execution_count": null,
   "id": "242c2cf9",
   "metadata": {},
   "outputs": [],
   "source": [
    "    # tesla ABA搜索词趋势"
   ]
  },
  {
   "cell_type": "code",
   "execution_count": 12,
   "id": "990bfe3c",
   "metadata": {},
   "outputs": [
    {
     "name": "stdout",
     "output_type": "stream",
     "text": [
      "数据处理完成，已保存到merged_data-new.xlsx文件中。\n"
     ]
    }
   ],
   "source": [
    "\n",
    "    # tesla ABA搜索词趋势\n",
    "    # tesla ABA搜索词趋势\n",
    "    # tesla ABA搜索词趋势\n",
    "\n",
    "import pandas as pd\n",
    "\n",
    "# 读取十二个XLSX文件\n",
    "file1_path = \"New-ABAKeywordTrend-US-特斯拉全量-2023第52周(1224~1230).xlsx\"\n",
    "file2_path = \"New-ABAKeywordTrend-US-特斯拉全量-2024第01周(1231~0106).xlsx\"\n",
    "file3_path = \"New-ABAKeywordTrend-US-特斯拉全量-2024第02周(0107~0113).xlsx\"\n",
    "\n",
    "\n",
    "\n",
    "df1 = pd.read_excel(file1_path)\n",
    "df2 = pd.read_excel(file2_path)\n",
    "df3 = pd.read_excel(file3_path)\n",
    "\n",
    "# 选择需要的列\n",
    "df1_selected = df1.copy()\n",
    "df2_selected = df2.copy()\n",
    "df3_selected = df3.copy()\n",
    "\n",
    "# 分步合并十二个数据框\n",
    "merged_df_a = pd.merge(df1_selected, df2_selected, on=\"关键词\", how=\"outer\")\n",
    "merged_df_all = pd.merge(merged_df_a, df3_selected, on=\"关键词\", how=\"outer\")\n",
    "\n",
    "\n",
    "# 保存到新的XLSX文件\n",
    "merged_df_all.to_excel(\"merged_data-new.xlsx\", index=False)\n",
    "\n",
    "print(\"数据处理完成，已保存到merged_data-new.xlsx文件中。\")\n"
   ]
  },
  {
   "cell_type": "code",
   "execution_count": null,
   "id": "edb68846",
   "metadata": {},
   "outputs": [],
   "source": [
    "    # bronco ABA搜索词趋势"
   ]
  },
  {
   "cell_type": "code",
   "execution_count": 7,
   "id": "3faf22fc",
   "metadata": {},
   "outputs": [
    {
     "name": "stdout",
     "output_type": "stream",
     "text": [
      "数据处理完成，已保存到merged_data-new.xlsx文件中。\n"
     ]
    }
   ],
   "source": [
    "\n",
    "    # bronco ABA搜索词趋势\n",
    "    # bronco ABA搜索词趋势\n",
    "    # bronco ABA搜索词趋势\n",
    "\n",
    "\n",
    "import pandas as pd\n",
    "\n",
    "# 读取十二个XLSX文件\n",
    "file1_path = \"New-ABAKeywordTrend-US-bronco-2023第31周(0730~0805).xlsx\"\n",
    "file2_path = \"New-ABAKeywordTrend-US-bronco-2023第32周(0806~0812).xlsx\"\n",
    "file3_path = \"New-ABAKeywordTrend-US-bronco-2023第33周(0813~0819).xlsx\"\n",
    "file4_path = \"New-ABAKeywordTrend-US-bronco-2023第34周(0820~0826).xlsx\"\n",
    "file5_path = \"New-ABAKeywordTrend-US-bronco-2023第35周(0827~0902).xlsx\"\n",
    "file6_path = \"New-ABAKeywordTrend-US-bronco-2023第36周(0903~0909).xlsx\"\n",
    "file7_path = \"New-ABAKeywordTrend-US-bronco-2023第37周(0910~0916).xlsx\"\n",
    "file8_path = \"New-ABAKeywordTrend-US-bronco-2023第38周(0917~0923).xlsx\"\n",
    "file9_path = \"New-ABAKeywordTrend-US-bronco-2023第39周(0924~0930).xlsx\"\n",
    "file10_path = \"New-ABAKeywordTrend-US-bronco-2023第40周(1001~1007).xlsx\"\n",
    "file11_path = \"New-ABAKeywordTrend-US-bronco-2023第41周(1008~1014).xlsx\"\n",
    "file12_path = \"New-ABAKeywordTrend-US-bronco-2023第42周(1015~1021).xlsx\"\n",
    "file13_path = \"New-ABAKeywordTrend-US-bronco-2023第43周(1022~1028).xlsx\"\n",
    "file14_path = \"New-ABAKeywordTrend-US-bronco-2023第44周(1029~1104).xlsx\"\n",
    "file15_path = \"New-ABAKeywordTrend-US-bronco-2023第45周(1105~1111).xlsx\"\n",
    "file16_path = \"New-ABAKeywordTrend-US-bronco-2023第46周(1112~1118).xlsx\"\n",
    "file17_path = \"New-ABAKeywordTrend-US-bronco-2023第47周(1119~1125).xlsx\"\n",
    "file18_path = \"New-ABAKeywordTrend-US-bronco-2023第48周(1126~1202).xlsx\"\n",
    "file19_path = \"New-ABAKeywordTrend-US-bronco-2023第49周(1203~1209).xlsx\"\n",
    "file20_path = \"New-ABAKeywordTrend-US-bronco-2023第50周(1210~1216).xlsx\"\n",
    "file21_path = \"New-ABAKeywordTrend-US-bronco-2023第51周(1217~1223).xlsx\"\n",
    "file22_path = \"New-ABAKeywordTrend-US-bronco-2023第52周(1224~1230).xlsx\"\n",
    "file23_path = \"New-ABAKeywordTrend-US-bronco-2024第01周(1231~0106).xlsx\"\n",
    "file24_path = \"New-ABAKeywordTrend-US-bronco-2024第02周(0107~0113).xlsx\"\n",
    "\n",
    "\n",
    "\n",
    "df1 = pd.read_excel(file1_path)\n",
    "df2 = pd.read_excel(file2_path)\n",
    "df3 = pd.read_excel(file3_path)\n",
    "df4 = pd.read_excel(file4_path)\n",
    "df5 = pd.read_excel(file5_path)\n",
    "df6 = pd.read_excel(file6_path)\n",
    "df7 = pd.read_excel(file7_path)\n",
    "df8 = pd.read_excel(file8_path)\n",
    "df9 = pd.read_excel(file9_path)\n",
    "df10 = pd.read_excel(file10_path)\n",
    "df11 = pd.read_excel(file11_path)\n",
    "df12 = pd.read_excel(file12_path)\n",
    "df13 = pd.read_excel(file13_path)\n",
    "df14 = pd.read_excel(file14_path)\n",
    "df15 = pd.read_excel(file15_path)\n",
    "df16 = pd.read_excel(file16_path)\n",
    "df17 = pd.read_excel(file17_path)\n",
    "df18 = pd.read_excel(file18_path)\n",
    "df19 = pd.read_excel(file19_path)\n",
    "df20 = pd.read_excel(file20_path)\n",
    "df21 = pd.read_excel(file21_path)\n",
    "df22 = pd.read_excel(file22_path)\n",
    "df23 = pd.read_excel(file23_path)\n",
    "df24 = pd.read_excel(file24_path)\n",
    "\n",
    "\n",
    "# 选择需要的列\n",
    "df1_selected = df1.copy()\n",
    "df2_selected = df2.copy()\n",
    "df3_selected = df3.copy()\n",
    "df4_selected = df4.copy()\n",
    "df5_selected = df5.copy()\n",
    "df6_selected = df6.copy()\n",
    "df7_selected = df7.copy()\n",
    "df8_selected = df8.copy()\n",
    "df9_selected = df9.copy()\n",
    "df10_selected = df10.copy()\n",
    "df11_selected = df11.copy()\n",
    "df12_selected = df12.copy()\n",
    "df13_selected = df13.copy()\n",
    "df14_selected = df14.copy()\n",
    "df15_selected = df15.copy()\n",
    "df16_selected = df16.copy()\n",
    "df17_selected = df17.copy()\n",
    "df18_selected = df18.copy()\n",
    "df19_selected = df19.copy()\n",
    "df20_selected = df20.copy()\n",
    "df21_selected = df21.copy()\n",
    "df22_selected = df22.copy()\n",
    "df23_selected = df23.copy()\n",
    "df24_selected = df24.copy()\n",
    "\n",
    "\n",
    "# 分步合并十二个数据框\n",
    "merged_df_a = pd.merge(df1_selected, df2_selected, on=\"关键词\", how=\"outer\")\n",
    "merged_df_b = pd.merge(merged_df_a, df3_selected, on=\"关键词\", how=\"outer\")\n",
    "merged_df_c = pd.merge(merged_df_b, df4_selected, on=\"关键词\", how=\"outer\")\n",
    "merged_df_d = pd.merge(merged_df_c, df5_selected, on=\"关键词\", how=\"outer\")\n",
    "merged_df_e = pd.merge(merged_df_d, df6_selected, on=\"关键词\", how=\"outer\")\n",
    "merged_df_f = pd.merge(merged_df_e, df7_selected, on=\"关键词\", how=\"outer\")\n",
    "merged_df_g = pd.merge(merged_df_f, df8_selected, on=\"关键词\", how=\"outer\")\n",
    "merged_df_h = pd.merge(merged_df_g, df9_selected, on=\"关键词\", how=\"outer\")\n",
    "merged_df_i = pd.merge(merged_df_h, df10_selected, on=\"关键词\", how=\"outer\")\n",
    "merged_df_j = pd.merge(merged_df_i, df11_selected, on=\"关键词\", how=\"outer\")\n",
    "merged_df_k = pd.merge(merged_df_j, df12_selected, on=\"关键词\", how=\"outer\")\n",
    "merged_df_l = pd.merge(merged_df_k, df13_selected, on=\"关键词\", how=\"outer\")\n",
    "merged_df_m = pd.merge(merged_df_l, df14_selected, on=\"关键词\", how=\"outer\")\n",
    "merged_df_n = pd.merge(merged_df_m, df15_selected, on=\"关键词\", how=\"outer\")\n",
    "merged_df_o = pd.merge(merged_df_n, df16_selected, on=\"关键词\", how=\"outer\")\n",
    "merged_df_p = pd.merge(merged_df_o, df17_selected, on=\"关键词\", how=\"outer\")\n",
    "merged_df_q = pd.merge(merged_df_p, df18_selected, on=\"关键词\", how=\"outer\")\n",
    "merged_df_r = pd.merge(merged_df_q, df19_selected, on=\"关键词\", how=\"outer\")\n",
    "merged_df_s = pd.merge(merged_df_r, df20_selected, on=\"关键词\", how=\"outer\")\n",
    "merged_df_t = pd.merge(merged_df_s, df21_selected, on=\"关键词\", how=\"outer\")\n",
    "merged_df_u = pd.merge(merged_df_t, df22_selected, on=\"关键词\", how=\"outer\")\n",
    "merged_df_v = pd.merge(merged_df_u, df23_selected, on=\"关键词\", how=\"outer\")\n",
    "merged_df_all = pd.merge(merged_df_v, df24_selected, on=\"关键词\", how=\"outer\")\n",
    "\n",
    "\n",
    "# 保存到新的XLSX文件\n",
    "merged_df_all.to_excel(\"merged_data-new.xlsx\", index=False)\n",
    "\n",
    "print(\"数据处理完成，已保存到merged_data-new.xlsx文件中。\")\n"
   ]
  },
  {
   "cell_type": "code",
   "execution_count": null,
   "id": "8d8e00df",
   "metadata": {},
   "outputs": [],
   "source": []
  }
 ],
 "metadata": {
  "kernelspec": {
   "display_name": "Python 3 (ipykernel)",
   "language": "python",
   "name": "python3"
  },
  "language_info": {
   "codemirror_mode": {
    "name": "ipython",
    "version": 3
   },
   "file_extension": ".py",
   "mimetype": "text/x-python",
   "name": "python",
   "nbconvert_exporter": "python",
   "pygments_lexer": "ipython3",
   "version": "3.11.4"
  }
 },
 "nbformat": 4,
 "nbformat_minor": 5
}
